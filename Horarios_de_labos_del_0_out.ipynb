{
 "cells": [
  {
   "cell_type": "code",
   "execution_count": 1,
   "id": "1a1b1d32",
   "metadata": {
    "colab": {
     "base_uri": "https://localhost:8080/",
     "height": 1000
    },
    "execution": {
     "iopub.execute_input": "2025-10-01T19:30:21.230111Z",
     "iopub.status.busy": "2025-10-01T19:30:21.229879Z",
     "iopub.status.idle": "2025-10-01T19:30:24.613727Z",
     "shell.execute_reply": "2025-10-01T19:30:24.613190Z"
    },
    "id": "z5hlIvwWNO2Z",
    "outputId": "e43cc08e-9619-4d83-e165-a779bb0a31ce",
    "papermill": {
     "duration": 3.386983,
     "end_time": "2025-10-01T19:30:24.614756",
     "exception": false,
     "start_time": "2025-10-01T19:30:21.227773",
     "status": "completed"
    },
    "tags": []
   },
   "outputs": [],
   "source": [
    "import csv\n",
    "import matplotlib.pyplot as plt\n",
    "import matplotlib.patches as patches\n",
    "import requests\n",
    "from io import StringIO\n",
    "\n",
    "dias = [\"Lunes\", \"Martes\", \"Miercoles\", \"Jueves\", \"Viernes\", \"Sabado\"]\n",
    "base_url = \"https://raw.githubusercontent.com/ManuUBA/Horarios-zero/main/\"\n",
    "labos = list(range(1103, 1112))\n",
    "\n",
    "def hora_a_decimal(hora):\n",
    "    h, m = map(int, hora.split(':'))\n",
    "    return h + m/60\n",
    "\n",
    "def decimal_a_hora(dec):\n",
    "    h = int(dec)\n",
    "    m = int((dec - h) * 60)\n",
    "    return f\"{h:02d}:{m:02d}\"\n",
    "\n",
    "def obtener_horarios(url_csv):\n",
    "    respuesta = requests.get(url_csv)\n",
    "    archivo_csv = StringIO(respuesta.text)\n",
    "    filas = list(csv.reader(archivo_csv, delimiter=','))\n",
    "    header = [h.strip() for h in filas[1]]\n",
    "    datos = filas[1:]\n",
    "    c_aula   = header.index(\"Aula\")\n",
    "    c_desde  = header.index(\"Inicio\")\n",
    "    c_hasta  = header.index(\"Fin\")\n",
    "    c_pab    = header.index(\"Pab.\")\n",
    "    filas_labo = [f for f in datos if f[c_pab] == \"0\" and int(f[c_aula]) in labos]\n",
    "\n",
    "    horarios_labo = []\n",
    "    for aula in labos:\n",
    "        tandas = [[f[c_desde], f[c_hasta]] for f in filas_labo if int(f[c_aula]) == aula]\n",
    "        horarios_labo.append(tandas)\n",
    "    return horarios_labo\n",
    "\n",
    "# Crear figura con 6 subplots (2 columnas x 3 filas)\n",
    "fig, axes = plt.subplots(3, 2, figsize=(14, 12))\n",
    "axes = axes.flatten()\n",
    "\n",
    "for idx, dia in enumerate(dias):\n",
    "    ax = axes[idx]\n",
    "    horarios_labo = obtener_horarios(f\"{base_url}{dia}.csv\")\n",
    "\n",
    "    ax.set_xlim(8, 23)\n",
    "    ax.set_ylim(0, len(labos))\n",
    "    ax.set_yticks([i + 0.5 for i in range(len(labos))])\n",
    "    ax.set_yticklabels([str(l) for l in labos])  # ahora se muestran todos los labos\n",
    "    ax.set_xlabel(\"Hora\")\n",
    "    ax.set_ylabel(\"Laboratorio\")\n",
    "\n",
    "    # Dibujar bloques\n",
    "    for jdx, aula in enumerate(horarios_labo):\n",
    "        ax.add_patch(patches.Rectangle((8, jdx), 15, 1, facecolor='green', alpha=0.3))\n",
    "        for inicio_str, fin_str in aula:\n",
    "            inicio, fin = hora_a_decimal(inicio_str), hora_a_decimal(fin_str)\n",
    "            ax.add_patch(patches.Rectangle((inicio, jdx), fin-inicio, 1, facecolor='red'))\n",
    "\n",
    "    # Leyenda solo en el primer subplot\n",
    "    if idx == 0:\n",
    "        ax.legend([patches.Patch(color='red'), patches.Patch(color='green', alpha=0.3)],\n",
    "                  ['Ocupado', 'Libre'], loc='upper right')\n",
    "\n",
    "    ax.set_title(dia)\n",
    "\n",
    "# Eje X cada media hora\n",
    "marcas = [8 + 0.5*i for i in range((23-8)*2 + 1)]\n",
    "for ax in axes:\n",
    "    ax.set_xticks(marcas)\n",
    "    ax.set_xticklabels([decimal_a_hora(m) for m in marcas], rotation=45)\n",
    "    ax.grid(True, axis='x', linestyle='--', alpha=0.5)\n",
    "\n",
    "plt.suptitle(\"Grilla de ocupación de laboratorios - Semana completa\", fontsize=16)\n",
    "plt.tight_layout(rect=[0, 0, 1, 0.96])\n",
    "plt.savefig(\"grafico.png\")   # 👈 esto crea el archivo\n",
    "plt.close()\n"
   ]
  }
 ],
 "metadata": {
  "colab": {
   "provenance": []
  },
  "kernelspec": {
   "display_name": "Python 3",
   "name": "python3"
  },
  "language_info": {
   "codemirror_mode": {
    "name": "ipython",
    "version": 3
   },
   "file_extension": ".py",
   "mimetype": "text/x-python",
   "name": "python",
   "nbconvert_exporter": "python",
   "pygments_lexer": "ipython3",
   "version": "3.12.3"
  },
  "papermill": {
   "default_parameters": {},
   "duration": 4.712532,
   "end_time": "2025-10-01T19:30:24.830817",
   "environment_variables": {},
   "exception": null,
   "input_path": "Horarios_de_labos_del_0.ipynb",
   "output_path": "Horarios_de_labos_del_0_out.ipynb",
   "parameters": {},
   "start_time": "2025-10-01T19:30:20.118285",
   "version": "2.6.0"
  }
 },
 "nbformat": 4,
 "nbformat_minor": 5
}